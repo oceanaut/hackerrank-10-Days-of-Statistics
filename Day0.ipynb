{
 "cells": [
  {
   "cell_type": "markdown",
   "metadata": {},
   "source": [
    "Day 0: Mean, Median, and Mode\n",
    "\n",
    "Objective\n",
    "\n",
    "In this challenge, we practice calculating the mean, median, and mode."
   ]
  },
  {
   "cell_type": "markdown",
   "metadata": {},
   "source": [
    "Task\n",
    "\n",
    "Given an array, , of integers, calculate and print the respective mean, median, and mode on separate lines. \n",
    "If your array contains more than one modal value, choose the numerically smallest one.\n",
    "https://www.hackerrank.com/challenges/s10-basic-statistics/problem"
   ]
  },
  {
   "cell_type": "markdown",
   "metadata": {},
   "source": [
    "Mean\n",
    "\n",
    "The mean is calculated by adding the value of each individual item in a group and dividing it by the total number of items in the group. \n",
    "For example, if you are at meeting of 10 people, and the sum of the ages of all attendees is 420, the mean age of the attendees is 420 divided by 10, or 42. \n",
    "The mean is used mostly as a general indicator for data, and works best when there are not a lot of outliers. \n",
    "\n",
    "For example, there is no way of knowing in this example whether some of the members are 90 and some are 5, \n",
    "or if all members are in their 40s."
   ]
  },
  {
   "cell_type": "markdown",
   "metadata": {},
   "source": [
    "Median\n",
    "\n",
    "The median is the value that is the mid-point of a group of values, having an equal number of items in the group above and below it.\n",
    "For instance, in a room with five people aged 23, 25, 37, 44 and 87, the median age is 37, as there are an equal number of persons older and younger than 37. \n",
    "The median is used where strong outliers may skew the representation of the group, such as with incomes.\n",
    "\n",
    "If you have one person who earns $1 billion a year and nine other people who earn under $100,000 a year, the mean income for people in the group would be around $100 million, a gross distortion.\n",
    "The median income would be under $100,000, more closely representing the situation of the majority of the group."
   ]
  },
  {
   "cell_type": "markdown",
   "metadata": {},
   "source": [
    "Mode\n",
    "Here's an example of determining a mode: If, in a room of 50 students, 30 are 7 years old and the rest are 6 or 8 years old, the mode of the ages is 7\n"
   ]
  },
  {
   "cell_type": "markdown",
   "metadata": {},
   "source": [
    "Mean, median and mode reveal different aspects of your data. \n",
    "Any one will give you a general idea, but may mislead you; having all three will give you a more complete picture.\n",
    "\n",
    "For example, for the data: 5, 7, 6, 127, you get a mean of 36.25 - an number that fits the arithmetic but seems a little out of place.\n",
    "The median, 6.5, may have more relevance to the series, but says nothing about the outlier. \n",
    "Since the series has no repeated numbers, it has no mode\n",
    "https://sciencing.com/uses-mean-median-mode-6323388.html"
   ]
  },
  {
   "cell_type": "markdown",
   "metadata": {},
   "source": [
    "import numpy as np\n",
    "from scipy import stats"
   ]
  },
  {
   "cell_type": "code",
   "execution_count": 5,
   "metadata": {},
   "outputs": [
    {
     "name": "stdout",
     "output_type": "stream",
     "text": [
      "10\n",
      "64630 11735 14216 99233 14470 4978 73429 38120 51135 67060\n"
     ]
    }
   ],
   "source": [
    "    n = input()\n",
    "    list1 = list(map(int, input().split()))"
   ]
  },
  {
   "cell_type": "code",
   "execution_count": 6,
   "metadata": {},
   "outputs": [
    {
     "name": "stdout",
     "output_type": "stream",
     "text": [
      "43900.6\n",
      "44627.5\n",
      "4978\n"
     ]
    }
   ],
   "source": [
    "    print(np.mean(list1))  \n",
    "    print(np.median(list1))  \n",
    "    print(stats.mode(list1)[0][0])"
   ]
  }
 ],
 "metadata": {
  "kernelspec": {
   "display_name": "Python 3",
   "language": "python",
   "name": "python3"
  },
  "language_info": {
   "codemirror_mode": {
    "name": "ipython",
    "version": 3
   },
   "file_extension": ".py",
   "mimetype": "text/x-python",
   "name": "python",
   "nbconvert_exporter": "python",
   "pygments_lexer": "ipython3",
   "version": "3.7.1"
  }
 },
 "nbformat": 4,
 "nbformat_minor": 2
}
